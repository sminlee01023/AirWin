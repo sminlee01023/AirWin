{
 "cells": [
  {
   "cell_type": "code",
   "execution_count": null,
   "id": "31e21ece",
   "metadata": {},
   "outputs": [],
   "source": [
    "from croll import GetWeather, GetDust"
   ]
  },
  {
   "cell_type": "code",
   "execution_count": null,
   "id": "206b8d69",
   "metadata": {},
   "outputs": [],
   "source": [
    "a = GetDust()"
   ]
  },
  {
   "cell_type": "code",
   "execution_count": null,
   "id": "93b8c351",
   "metadata": {},
   "outputs": [],
   "source": [
    "a = GetDust()\n",
    "degree, condition = a.ultra_fine_dust_data"
   ]
  },
  {
   "cell_type": "code",
   "execution_count": null,
   "id": "8da7bd64",
   "metadata": {},
   "outputs": [],
   "source": [
    "degree"
   ]
  },
  {
   "cell_type": "code",
   "execution_count": null,
   "id": "cc1d474d",
   "metadata": {},
   "outputs": [],
   "source": [
    "class GetWeather:\n",
    "    def get_data():\n",
    "        html = requests.get('https://weather.naver.com/today/11185763')\n",
    "        soup = bs(html.text,'html.parser')\n",
    "\n",
    "        raw_data = soup.find('div',{'class':'weather_area'})\n",
    "\n",
    "        raw_temp_data = raw_data.find('strong', {'class': 'current'})\n",
    "        raw_weather_data = raw_data.find('span', {'class': 'weather'})\n",
    "\n",
    "        temp = raw_temp_data.get_text()[6:-2]\n",
    "        weather = raw_weather_data.get_text()\n",
    "\n",
    "        #threading.Timer(5, get_data).start()\n",
    "\n",
    "        return temp, weather\n",
    "\n",
    "    temp, weather = get_data()"
   ]
  },
  {
   "cell_type": "code",
   "execution_count": null,
   "id": "8556b073",
   "metadata": {},
   "outputs": [],
   "source": [
    "print(a)"
   ]
  },
  {
   "cell_type": "code",
   "execution_count": null,
   "id": "35a60878",
   "metadata": {},
   "outputs": [],
   "source": [
    "from bs4 import BeautifulSoup as bs\n",
    "from pprint import pprint\n",
    "import requests\n",
    "import time\n",
    "import schedule"
   ]
  },
  {
   "cell_type": "code",
   "execution_count": null,
   "id": "07f22949",
   "metadata": {},
   "outputs": [],
   "source": [
    "def get_data():\n",
    "    html = requests.get('https://weather.naver.com/air/11185761')\n",
    "    soup = bs(html.text,'html.parser')\n",
    "\n",
    "    raw_data = soup.find('div',{'class':'top_area'})\n",
    "\n",
    "    raw_dust_data = raw_data.find_all('em')\n",
    "\n",
    "    fine_dust_data = raw_dust_data[0].get_text().split('\\n')[1:3]\n",
    "    ultra_fine_dust_data = raw_dust_data[1].get_text().split('\\n')[1:3]\n",
    "\n",
    "    return fine_dust_data, ultra_fine_dust_data\n"
   ]
  },
  {
   "cell_type": "code",
   "execution_count": 25,
   "id": "0a8f8359",
   "metadata": {},
   "outputs": [],
   "source": [
    "from croll import GetWeather, GetDust"
   ]
  },
  {
   "cell_type": "code",
   "execution_count": 26,
   "id": "4d3df926",
   "metadata": {},
   "outputs": [],
   "source": [
    "a = GetWeather()\n",
    "weather, temp = a.weather, a.temp\n",
    "a = GetDust()\n",
    "fine, ultra_fine = a.fine_dust_data, a.ultra_fine_dust_data"
   ]
  },
  {
   "cell_type": "code",
   "execution_count": null,
   "id": "bf69ab44",
   "metadata": {},
   "outputs": [],
   "source": []
  },
  {
   "cell_type": "code",
   "execution_count": 27,
   "id": "2c84c873",
   "metadata": {},
   "outputs": [],
   "source": [
    "a = GetDust()\n",
    "[fine_level, fine_grade] = a.fine_dust_data"
   ]
  },
  {
   "cell_type": "code",
   "execution_count": 28,
   "id": "25a2e372",
   "metadata": {},
   "outputs": [
    {
     "data": {
      "text/plain": [
       "('맑음', '-8.4', ['27', '좋음'], ['9', '좋음'])"
      ]
     },
     "execution_count": 28,
     "metadata": {},
     "output_type": "execute_result"
    }
   ],
   "source": [
    "weather, temp, fine, ultra_fine"
   ]
  },
  {
   "cell_type": "code",
   "execution_count": null,
   "id": "feb250f2",
   "metadata": {},
   "outputs": [],
   "source": [
    "from ConArduino import conWindow"
   ]
  },
  {
   "cell_type": "code",
   "execution_count": null,
   "id": "0b3a7670",
   "metadata": {},
   "outputs": [],
   "source": [
    "a = conWindow()"
   ]
  },
  {
   "cell_type": "code",
   "execution_count": 11,
   "id": "384e0ade",
   "metadata": {},
   "outputs": [],
   "source": [
    "import serial\n",
    "import time\n",
    "\n",
    "def conWindow(t):\n",
    "    py_serial = serial.Serial(\n",
    "        # serial port 설정\n",
    "        port = \"com5\",\n",
    "        # 보드 레이트 (통신 속도)\n",
    "        baudrate= 9600)\n",
    "    \n",
    "    py_serial.write('1'.encode())\n",
    "    time.sleep(t)\n",
    "    py_serial.write('2'.encode())\n",
    "    time.sleep(t)"
   ]
  },
  {
   "cell_type": "code",
   "execution_count": 13,
   "id": "4359cd7c",
   "metadata": {},
   "outputs": [],
   "source": [
    "conWindow(15)"
   ]
  },
  {
   "cell_type": "code",
   "execution_count": 10,
   "id": "28c2c5ee",
   "metadata": {},
   "outputs": [
    {
     "name": "stdout",
     "output_type": "stream",
     "text": [
      "1\n",
      "1\n",
      "2\n",
      "1\n",
      "2\n"
     ]
    },
    {
     "ename": "KeyboardInterrupt",
     "evalue": "Interrupted by user",
     "output_type": "error",
     "traceback": [
      "\u001b[1;31m---------------------------------------------------------------------------\u001b[0m",
      "\u001b[1;31mKeyboardInterrupt\u001b[0m                         Traceback (most recent call last)",
      "\u001b[1;32m<ipython-input-10-284b2f9f7314>\u001b[0m in \u001b[0;36m<module>\u001b[1;34m\u001b[0m\n\u001b[0;32m     10\u001b[0m \u001b[1;33m\u001b[0m\u001b[0m\n\u001b[0;32m     11\u001b[0m \u001b[1;32mwhile\u001b[0m \u001b[1;32mTrue\u001b[0m\u001b[1;33m:\u001b[0m\u001b[1;33m\u001b[0m\u001b[1;33m\u001b[0m\u001b[0m\n\u001b[1;32m---> 12\u001b[1;33m     \u001b[0mcommand\u001b[0m \u001b[1;33m=\u001b[0m \u001b[0minput\u001b[0m\u001b[1;33m(\u001b[0m\u001b[1;33m)\u001b[0m\u001b[1;33m\u001b[0m\u001b[1;33m\u001b[0m\u001b[0m\n\u001b[0m\u001b[0;32m     13\u001b[0m     \u001b[0mpy_serial\u001b[0m\u001b[1;33m.\u001b[0m\u001b[0mwrite\u001b[0m\u001b[1;33m(\u001b[0m\u001b[0mcommand\u001b[0m\u001b[1;33m.\u001b[0m\u001b[0mencode\u001b[0m\u001b[1;33m(\u001b[0m\u001b[1;33m)\u001b[0m\u001b[1;33m)\u001b[0m\u001b[1;33m\u001b[0m\u001b[1;33m\u001b[0m\u001b[0m\n\u001b[0;32m     14\u001b[0m     \u001b[0mpy_serial\u001b[0m\u001b[1;33m.\u001b[0m\u001b[0mwrite\u001b[0m\u001b[1;33m(\u001b[0m\u001b[0mcommand\u001b[0m\u001b[1;33m.\u001b[0m\u001b[0mencode\u001b[0m\u001b[1;33m(\u001b[0m\u001b[1;33m)\u001b[0m\u001b[1;33m)\u001b[0m\u001b[1;33m\u001b[0m\u001b[1;33m\u001b[0m\u001b[0m\n",
      "\u001b[1;32mC:\\ProgramData\\Anaconda3\\lib\\site-packages\\ipykernel\\kernelbase.py\u001b[0m in \u001b[0;36mraw_input\u001b[1;34m(self, prompt)\u001b[0m\n\u001b[0;32m    858\u001b[0m                 \u001b[1;34m\"raw_input was called, but this frontend does not support input requests.\"\u001b[0m\u001b[1;33m\u001b[0m\u001b[1;33m\u001b[0m\u001b[0m\n\u001b[0;32m    859\u001b[0m             )\n\u001b[1;32m--> 860\u001b[1;33m         return self._input_request(str(prompt),\n\u001b[0m\u001b[0;32m    861\u001b[0m             \u001b[0mself\u001b[0m\u001b[1;33m.\u001b[0m\u001b[0m_parent_ident\u001b[0m\u001b[1;33m,\u001b[0m\u001b[1;33m\u001b[0m\u001b[1;33m\u001b[0m\u001b[0m\n\u001b[0;32m    862\u001b[0m             \u001b[0mself\u001b[0m\u001b[1;33m.\u001b[0m\u001b[0m_parent_header\u001b[0m\u001b[1;33m,\u001b[0m\u001b[1;33m\u001b[0m\u001b[1;33m\u001b[0m\u001b[0m\n",
      "\u001b[1;32mC:\\ProgramData\\Anaconda3\\lib\\site-packages\\ipykernel\\kernelbase.py\u001b[0m in \u001b[0;36m_input_request\u001b[1;34m(self, prompt, ident, parent, password)\u001b[0m\n\u001b[0;32m    902\u001b[0m             \u001b[1;32mexcept\u001b[0m \u001b[0mKeyboardInterrupt\u001b[0m\u001b[1;33m:\u001b[0m\u001b[1;33m\u001b[0m\u001b[1;33m\u001b[0m\u001b[0m\n\u001b[0;32m    903\u001b[0m                 \u001b[1;31m# re-raise KeyboardInterrupt, to truncate traceback\u001b[0m\u001b[1;33m\u001b[0m\u001b[1;33m\u001b[0m\u001b[1;33m\u001b[0m\u001b[0m\n\u001b[1;32m--> 904\u001b[1;33m                 \u001b[1;32mraise\u001b[0m \u001b[0mKeyboardInterrupt\u001b[0m\u001b[1;33m(\u001b[0m\u001b[1;34m\"Interrupted by user\"\u001b[0m\u001b[1;33m)\u001b[0m \u001b[1;32mfrom\u001b[0m \u001b[1;32mNone\u001b[0m\u001b[1;33m\u001b[0m\u001b[1;33m\u001b[0m\u001b[0m\n\u001b[0m\u001b[0;32m    905\u001b[0m             \u001b[1;32mexcept\u001b[0m \u001b[0mException\u001b[0m \u001b[1;32mas\u001b[0m \u001b[0me\u001b[0m\u001b[1;33m:\u001b[0m\u001b[1;33m\u001b[0m\u001b[1;33m\u001b[0m\u001b[0m\n\u001b[0;32m    906\u001b[0m                 \u001b[0mself\u001b[0m\u001b[1;33m.\u001b[0m\u001b[0mlog\u001b[0m\u001b[1;33m.\u001b[0m\u001b[0mwarning\u001b[0m\u001b[1;33m(\u001b[0m\u001b[1;34m\"Invalid Message:\"\u001b[0m\u001b[1;33m,\u001b[0m \u001b[0mexc_info\u001b[0m\u001b[1;33m=\u001b[0m\u001b[1;32mTrue\u001b[0m\u001b[1;33m)\u001b[0m\u001b[1;33m\u001b[0m\u001b[1;33m\u001b[0m\u001b[0m\n",
      "\u001b[1;31mKeyboardInterrupt\u001b[0m: Interrupted by user"
     ]
    }
   ],
   "source": [
    "import serial\n",
    "import time\n",
    "import sys\n",
    "\n",
    "py_serial = serial.Serial(\n",
    "    # serial port 설정\n",
    "    port = \"com5\",\n",
    "    # 보드 레이트 (통신 속도)\n",
    "    baudrate= 9600)\n",
    "\n",
    "while True:\n",
    "    command = input()\n",
    "    py_serial.write(command.encode())\n",
    "    py_serial.write(command.encode())\n"
   ]
  },
  {
   "cell_type": "code",
   "execution_count": null,
   "id": "020b6949",
   "metadata": {},
   "outputs": [],
   "source": []
  }
 ],
 "metadata": {
  "kernelspec": {
   "display_name": "Python 3",
   "language": "python",
   "name": "python3"
  }
 },
 "nbformat": 4,
 "nbformat_minor": 5
}
