{
 "cells": [
  {
   "cell_type": "code",
   "execution_count": 1,
   "metadata": {},
   "outputs": [],
   "source": [
    "from bs4 import BeautifulSoup as bs\n",
    "from pprint import pprint\n",
    "import requests\n",
    "\n",
    "html = requests.get('https://weather.naver.com/today/11185763')\n",
    "soup = bs(html.text,'html.parser')\n",
    "\n",
    "raw_data = soup.find('div',{'class':'weather_area'})\n",
    "\n",
    "raw_temp_data = raw_data.find('strong', {'class': 'current'})\n",
    "raw_weather_data = raw_data.find('span', {'class': 'weather'})"
   ]
  },
  {
   "cell_type": "code",
   "execution_count": 2,
   "metadata": {},
   "outputs": [
    {
     "data": {
      "text/plain": [
       "'4.9'"
      ]
     },
     "execution_count": 2,
     "metadata": {},
     "output_type": "execute_result"
    }
   ],
   "source": [
    "temp = raw_temp_data.get_text()[6:-2]\n",
    "temp"
   ]
  },
  {
   "cell_type": "code",
   "execution_count": 3,
   "metadata": {},
   "outputs": [
    {
     "data": {
      "text/plain": [
       "'맑음'"
      ]
     },
     "execution_count": 3,
     "metadata": {},
     "output_type": "execute_result"
    }
   ],
   "source": [
    "weather = raw_weather_data.get_text()\n",
    "weather"
   ]
  },
  {
   "cell_type": "code",
   "execution_count": 4,
   "metadata": {},
   "outputs": [],
   "source": [
    "from bs4 import BeautifulSoup as bs\n",
    "from pprint import pprint\n",
    "import requests\n",
    "\n",
    "html = requests.get('https://weather.naver.com/air/11185761')\n",
    "soup = bs(html.text,'html.parser')\n",
    "\n",
    "raw_data = soup.find('div',{'class':'top_area'})\n",
    "\n",
    "raw_dust_data = raw_data.find_all('em')\n",
    "\n",
    "fine_dust_data = raw_dust_data[0].get_text().split('\\n')[1:3]\n",
    "ultra_fine_dust_data = raw_dust_data[1].get_text().split('\\n')[1:3]\n",
    "\n"
   ]
  },
  {
   "cell_type": "code",
   "execution_count": 5,
   "metadata": {},
   "outputs": [
    {
     "data": {
      "text/plain": [
       "['21', '좋음']"
      ]
     },
     "execution_count": 5,
     "metadata": {},
     "output_type": "execute_result"
    }
   ],
   "source": [
    "fine_dust_data"
   ]
  },
  {
   "cell_type": "code",
   "execution_count": 6,
   "metadata": {},
   "outputs": [
    {
     "data": {
      "text/plain": [
       "['12', '좋음']"
      ]
     },
     "execution_count": 6,
     "metadata": {},
     "output_type": "execute_result"
    }
   ],
   "source": [
    "ultra_fine_dust_data"
   ]
  },
  {
   "cell_type": "code",
   "execution_count": 99,
   "metadata": {},
   "outputs": [],
   "source": [
    "from bs4 import BeautifulSoup as bs\n",
    "from pprint import pprint\n",
    "import requests\n",
    "import time\n",
    "import threading\n",
    "\n",
    "class GetWeather:\n",
    "    def __call__(self):\n",
    "        html = requests.get('https://weather.naver.com/today/11185763')\n",
    "        soup = bs(html.text,'html.parser')\n",
    "\n",
    "        raw_data = soup.find('div',{'class':'weather_area'})\n",
    "\n",
    "        raw_temp_data = raw_data.find('strong', {'class': 'current'})\n",
    "        raw_weather_data = raw_data.find('span', {'class': 'weather'})\n",
    "\n",
    "        temp = raw_temp_data.get_text()[6:-2]\n",
    "        weather = raw_weather_data.get_text()\n",
    "\n",
    "        threading.Timer(60, get_data).start()\n",
    "\n",
    "        return temp, weather\n",
    "\n",
    "class GetDust:\n",
    "    def __call__(self):\n",
    "        html = requests.get('https://weather.naver.com/air/11185761')\n",
    "        soup = bs(html.text,'html.parser')\n",
    "\n",
    "        raw_data = soup.find('div',{'class':'top_area'})\n",
    "\n",
    "        raw_dust_data = raw_data.find_all('em')\n",
    "\n",
    "        fine_dust_data = raw_dust_data[0].get_text().split('\\n')[1:3]\n",
    "        ultra_fine_dust_data = raw_dust_data[1].get_text().split('\\n')[1:3]\n",
    "\n",
    "        threading.Timer(60, get_data).start()\n",
    "\n",
    "        return fine_dust_data, ultra_fine_dust_data    \n"
   ]
  },
  {
   "cell_type": "code",
   "execution_count": null,
   "metadata": {},
   "outputs": [],
   "source": []
  }
 ],
 "metadata": {
  "kernelspec": {
   "display_name": "Python 3",
   "language": "python",
   "name": "python3"
  },
  "language_info": {
   "codemirror_mode": {
    "name": "ipython",
    "version": 3
   },
   "file_extension": ".py",
   "mimetype": "text/x-python",
   "name": "python",
   "nbconvert_exporter": "python",
   "pygments_lexer": "ipython3",
   "version": "3.8.5"
  }
 },
 "nbformat": 4,
 "nbformat_minor": 4
}
